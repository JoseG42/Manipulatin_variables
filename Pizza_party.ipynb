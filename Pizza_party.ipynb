{
 "cells": [
  {
   "cell_type": "code",
   "execution_count": 1,
   "id": "ebd4192e",
   "metadata": {},
   "outputs": [
    {
     "name": "stdout",
     "output_type": "stream",
     "text": [
      "Hello\n",
      "There are 4 pizzas\n",
      "Each pizza has 8 slices\n",
      "There are 6 guests\n"
     ]
    }
   ],
   "source": [
    "print('Hello')\n",
    "#greet the user\n",
    "Number_of_pizzas=input('How many pizzas is there?')\n",
    "Slices_per_pizza=input('How many slices does each pizza have?')\n",
    "Number_of_guests=input('How many people are at the party?')\n",
    "#Create the variables and ask the user how many pizzas, how\n",
    "#many slices per pizza, and how many people are at the party\n",
    "print('There are',Number_of_pizzas,'pizzas')\n",
    "print('Each pizza has',Slices_per_pizza,'slices')\n",
    "print('There are',Number_of_guests,'guests')\n",
    "#Confirm the inputs"
   ]
  },
  {
   "cell_type": "code",
   "execution_count": 2,
   "id": "4939e2df",
   "metadata": {},
   "outputs": [
    {
     "name": "stdout",
     "output_type": "stream",
     "text": [
      "There are 32 slices in total\n",
      "each guest should receive 5.333333333333333 slices\n"
     ]
    }
   ],
   "source": [
    "Number_of_guests=int(Number_of_guests)\n",
    "Number_of_pizzas=int(Number_of_pizzas)\n",
    "Slices_per_pizza=int(Slices_per_pizza)\n",
    "#Make the variables int\n",
    "Total_slices=(Number_of_pizzas*Slices_per_pizza)\n",
    "#create total slices variable equal to pizzas times slices\n",
    "Slices_per_guest=(Total_slices/Number_of_guests)\n",
    "#Create slices per guest variable equal to\n",
    "#total slices over number of guests\n",
    "print('There are',Total_slices,'slices in total')\n",
    "print('each guest should receive',Slices_per_guest,'slices')\n",
    "#Confirm total slices and print out the number of slices\n",
    "#each guest should receive"
   ]
  }
 ],
 "metadata": {
  "kernelspec": {
   "display_name": "Python 3",
   "language": "python",
   "name": "python3"
  },
  "language_info": {
   "codemirror_mode": {
    "name": "ipython",
    "version": 3
   },
   "file_extension": ".py",
   "mimetype": "text/x-python",
   "name": "python",
   "nbconvert_exporter": "python",
   "pygments_lexer": "ipython3",
   "version": "3.12.1"
  }
 },
 "nbformat": 4,
 "nbformat_minor": 5
}
