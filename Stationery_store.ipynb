{
 "cells": [
  {
   "cell_type": "code",
   "execution_count": null,
   "id": "82eb405a",
   "metadata": {},
   "outputs": [
    {
     "name": "stdout",
     "output_type": "stream",
     "text": [
      "hello\n",
      "The notebooks cost: 20.98\n",
      "The pens cost: 16.99\n",
      "The backpack cost: 50.55\n"
     ]
    }
   ],
   "source": [
    "print('hello')\n",
    "Notebooks=input('How much do the notebooks cost in dollars?')\n",
    "Pens=input('How much do the pens cost in dollars?')\n",
    "Backpack=input('How much does the backpack cost in dollars?')\n",
    "#Make the variables and ask for the value from the user\n",
    "print('The notebooks cost:',Notebooks)\n",
    "print('The pens cost:',Pens)\n",
    "print('The backpack cost:',Backpack)\n",
    "#Confirm the price"
   ]
  },
  {
   "cell_type": "code",
   "execution_count": 3,
   "id": "80b12bea",
   "metadata": {},
   "outputs": [
    {
     "name": "stdout",
     "output_type": "stream",
     "text": [
      "That comes out to $ 88.52\n"
     ]
    }
   ],
   "source": [
    "Notebooks=float(Notebooks)\n",
    "Pens=float(Pens)\n",
    "Backpack=float(Backpack)\n",
    "#Make them into a float shaped variable\n",
    "Total_cost=(Notebooks+Pens+Backpack)\n",
    "#Create total cost equal to notebooks plus pens plus backpack\n",
    "print('That comes out to $',Total_cost)\n",
    "#Print the total cost"
   ]
  }
 ],
 "metadata": {
  "kernelspec": {
   "display_name": "Python 3",
   "language": "python",
   "name": "python3"
  },
  "language_info": {
   "codemirror_mode": {
    "name": "ipython",
    "version": 3
   },
   "file_extension": ".py",
   "mimetype": "text/x-python",
   "name": "python",
   "nbconvert_exporter": "python",
   "pygments_lexer": "ipython3",
   "version": "3.12.1"
  }
 },
 "nbformat": 4,
 "nbformat_minor": 5
}
