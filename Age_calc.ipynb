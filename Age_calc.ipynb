{
 "cells": [
  {
   "cell_type": "code",
   "execution_count": null,
   "id": "88aabb17",
   "metadata": {},
   "outputs": [
    {
     "name": "stdout",
     "output_type": "stream",
     "text": [
      "hello\n",
      "You were born in 2000\n",
      "It is 2025\n"
     ]
    }
   ],
   "source": [
    "print('hello')\n",
    "User_birth_year=input('What year were you born?')\n",
    "Current_year=input('What year is it?')\n",
    "#make the variables, ask the user for their birthyear,\n",
    "#and the current year\n",
    "print('You were born in',User_birth_year)\n",
    "print('It is',Current_year)\n",
    "#Confirm user birth year and current year\n"
   ]
  },
  {
   "cell_type": "code",
   "execution_count": null,
   "id": "84020221",
   "metadata": {},
   "outputs": [
    {
     "name": "stdout",
     "output_type": "stream",
     "text": [
      "You are 25 years old\n"
     ]
    }
   ],
   "source": [
    "Current_year=int(Current_year)\n",
    "User_birth_year=int(User_birth_year)\n",
    "#turn the variables into int\n",
    "User_age=(Current_year-User_birth_year)\n",
    "print('You are',User_age,'years old')\n",
    "#make the user age variable equal to current\n",
    "#year minus birth year\n",
    "#print the user's age"
   ]
  }
 ],
 "metadata": {
  "kernelspec": {
   "display_name": "Python 3",
   "language": "python",
   "name": "python3"
  },
  "language_info": {
   "codemirror_mode": {
    "name": "ipython",
    "version": 3
   },
   "file_extension": ".py",
   "mimetype": "text/x-python",
   "name": "python",
   "nbconvert_exporter": "python",
   "pygments_lexer": "ipython3",
   "version": "3.12.1"
  }
 },
 "nbformat": 4,
 "nbformat_minor": 5
}
