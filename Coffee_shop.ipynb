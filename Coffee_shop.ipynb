{
 "cells": [
  {
   "cell_type": "code",
   "execution_count": 9,
   "id": "025d32b4",
   "metadata": {},
   "outputs": [
    {
     "name": "stdout",
     "output_type": "stream",
     "text": [
      "hello\n",
      "A coffee costs .99\n",
      "A pastry costs 2.18\n"
     ]
    }
   ],
   "source": [
    "print('hello')\n",
    "#Greet the user\n",
    "Price_of_coffee=input('How much does a coffee cost?')\n",
    "Price_of_pastry=input('How much does a pastry cost?')\n",
    "#Create a variable for the price of coffee and pastry each, define them as the input\n",
    "#to the question 'How much does a coffee/pastry cost?'\n",
    "print('A coffee costs',Price_of_coffee)\n",
    "print('A pastry costs',Price_of_pastry)\n",
    "#Confirm the variables are correct\n"
   ]
  },
  {
   "cell_type": "code",
   "execution_count": 10,
   "id": "dc384688",
   "metadata": {},
   "outputs": [
    {
     "name": "stdout",
     "output_type": "stream",
     "text": [
      "The total cost is 3.17\n"
     ]
    }
   ],
   "source": [
    "Price_of_coffee=float(Price_of_coffee)\n",
    "Price_of_pastry=float(Price_of_pastry)\n",
    "#Change the type of Price_of_coffee/pastry to float\n",
    "Total_cost=(Price_of_coffee+Price_of_pastry)\n",
    "#Create a variable for the total cost, define it as the Price_of_coffee plus\n",
    "#Price_of_pastry\n",
    "print('The total cost is',Total_cost)\n",
    "#Prints out the total cost"
   ]
  }
 ],
 "metadata": {
  "kernelspec": {
   "display_name": "Python 3",
   "language": "python",
   "name": "python3"
  },
  "language_info": {
   "codemirror_mode": {
    "name": "ipython",
    "version": 3
   },
   "file_extension": ".py",
   "mimetype": "text/x-python",
   "name": "python",
   "nbconvert_exporter": "python",
   "pygments_lexer": "ipython3",
   "version": "3.12.1"
  }
 },
 "nbformat": 4,
 "nbformat_minor": 5
}
