{
 "cells": [
  {
   "cell_type": "code",
   "execution_count": 2,
   "id": "a174843c",
   "metadata": {},
   "outputs": [
    {
     "name": "stdout",
     "output_type": "stream",
     "text": [
      "Hello\n",
      "You make $ 24 per hour\n",
      "You worked 44 this week\n"
     ]
    }
   ],
   "source": [
    "print('Hello')\n",
    "Hourly_wage=input('What is your hourly wage?')\n",
    "Weekly_hours_worked=input('How many hours did you work this week?')\n",
    "#Create variables for hourly wage and hours worked\n",
    "#asking the user's input\n",
    "print('You make $',Hourly_wage,'per hour')\n",
    "print('You worked',Weekly_hours_worked,'this week')\n",
    "#confirm the input from the user"
   ]
  },
  {
   "cell_type": "code",
   "execution_count": 5,
   "id": "c8d1df3b",
   "metadata": {},
   "outputs": [
    {
     "name": "stdout",
     "output_type": "stream",
     "text": [
      "You made $ 1056.0 this week\n"
     ]
    }
   ],
   "source": [
    "Hourly_wage=float(Hourly_wage)\n",
    "Weekly_hours_worked=float(Weekly_hours_worked)\n",
    "#make the variables float\n",
    "Weekly_salary=(Hourly_wage*Weekly_hours_worked)\n",
    "#make weekly salary variable equal to\n",
    "#hourly wage multiplied by hours worked\n",
    "print('You made $',Weekly_salary,'this week')"
   ]
  }
 ],
 "metadata": {
  "kernelspec": {
   "display_name": "Python 3",
   "language": "python",
   "name": "python3"
  },
  "language_info": {
   "codemirror_mode": {
    "name": "ipython",
    "version": 3
   },
   "file_extension": ".py",
   "mimetype": "text/x-python",
   "name": "python",
   "nbconvert_exporter": "python",
   "pygments_lexer": "ipython3",
   "version": "3.12.1"
  }
 },
 "nbformat": 4,
 "nbformat_minor": 5
}
