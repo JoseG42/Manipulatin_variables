{
 "cells": [
  {
   "cell_type": "code",
   "execution_count": 4,
   "id": "80b8a975",
   "metadata": {},
   "outputs": [
    {
     "name": "stdout",
     "output_type": "stream",
     "text": [
      "hello\n",
      "Youre traveling 44 miles\n",
      "Your planed speed is 70 miles per hour\n"
     ]
    }
   ],
   "source": [
    "print('hello')\n",
    "#Greet the user\n",
    "Distance=input('Distance in miles from your origin to your destination')\n",
    "print('Youre traveling',Distance,'miles')\n",
    "#Create the distance variable, ask the user how far they will travel,\n",
    "#confirm the distance\n",
    "Speed=input('How fast will you travel in miles per hour?')\n",
    "print('Your planed speed is',Speed,'miles per hour')\n",
    "#Create the speed variable, ask the user how fast they will traver,\n",
    "#confirm the speed"
   ]
  },
  {
   "cell_type": "code",
   "execution_count": 5,
   "id": "117df8fa",
   "metadata": {},
   "outputs": [
    {
     "name": "stdout",
     "output_type": "stream",
     "text": [
      "your estimated travel time is 0.6285714285714286 hours\n"
     ]
    }
   ],
   "source": [
    "Distance=float(Distance)\n",
    "Speed=float(Speed)\n",
    "#Makes the variables floats\n",
    "Travel_time=(Distance/Speed)\n",
    "#Create travel time variable, set equal to distance divided by speed\n",
    "print('your estimated travel time is',Travel_time,'hours')\n",
    "#print out estimated travel time"
   ]
  }
 ],
 "metadata": {
  "kernelspec": {
   "display_name": "Python 3",
   "language": "python",
   "name": "python3"
  },
  "language_info": {
   "codemirror_mode": {
    "name": "ipython",
    "version": 3
   },
   "file_extension": ".py",
   "mimetype": "text/x-python",
   "name": "python",
   "nbconvert_exporter": "python",
   "pygments_lexer": "ipython3",
   "version": "3.12.1"
  }
 },
 "nbformat": 4,
 "nbformat_minor": 5
}
