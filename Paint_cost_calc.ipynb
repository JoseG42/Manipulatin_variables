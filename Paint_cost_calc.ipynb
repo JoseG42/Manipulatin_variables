{
 "cells": [
  {
   "cell_type": "code",
   "execution_count": 2,
   "id": "0d227928",
   "metadata": {},
   "outputs": [
    {
     "name": "stdout",
     "output_type": "stream",
     "text": [
      "Hello\n",
      "The room makes up 200 square feet\n",
      "The paint costs $ .70 per square foot\n"
     ]
    }
   ],
   "source": [
    "print('Hello')\n",
    "#greeting\n",
    "Room_sqr_footage=input('How many square feet do the walls of the room make up?')\n",
    "Paint_cost_per_sqrft=input('How much does the paint cost per square foot?')\n",
    "#Create variables and ask the user for the square footage\n",
    "#of the room and paint price per square foot\n",
    "print('The room makes up',Room_sqr_footage,'square feet')\n",
    "print('The paint costs $',Paint_cost_per_sqrft,'per square foot')\n",
    "#confirm the variables "
   ]
  },
  {
   "cell_type": "code",
   "execution_count": 3,
   "id": "ccef427f",
   "metadata": {},
   "outputs": [
    {
     "name": "stdout",
     "output_type": "stream",
     "text": [
      "Painting the room will cost $ 140.0\n"
     ]
    }
   ],
   "source": [
    "Room_sqr_footage=float(Room_sqr_footage)\n",
    "Paint_cost_per_sqrft=float(Paint_cost_per_sqrft)\n",
    "#make the variables float\n",
    "Total_cost=(Room_sqr_footage*Paint_cost_per_sqrft)\n",
    "#create total cost variable equal to square footage\n",
    "#multiplied by paint cost per square foot\n",
    "print('Painting the room will cost $',Total_cost)\n",
    "#print the total cost"
   ]
  }
 ],
 "metadata": {
  "kernelspec": {
   "display_name": "Python 3",
   "language": "python",
   "name": "python3"
  },
  "language_info": {
   "codemirror_mode": {
    "name": "ipython",
    "version": 3
   },
   "file_extension": ".py",
   "mimetype": "text/x-python",
   "name": "python",
   "nbconvert_exporter": "python",
   "pygments_lexer": "ipython3",
   "version": "3.12.1"
  }
 },
 "nbformat": 4,
 "nbformat_minor": 5
}
